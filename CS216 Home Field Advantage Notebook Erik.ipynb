{
 "cells": [
  {
   "cell_type": "code",
   "execution_count": 1,
   "id": "3770b1c5",
   "metadata": {},
   "outputs": [],
   "source": [
    "import numpy as np\n",
    "import pandas as pd"
   ]
  },
  {
   "cell_type": "code",
   "execution_count": 2,
   "id": "01bdf127",
   "metadata": {},
   "outputs": [],
   "source": [
    "file_path = '/Users/erikrobertsson/Desktop/wcmatches.csv'\n",
    "wcmatches = pd.read_csv(file_path)\n",
    "\n",
    "file_path2 = '/Users/erikrobertsson/Desktop/worldcups.csv'\n",
    "worldcups = pd.read_csv(file_path2)\n",
    "\n",
    "file_path3 = '/Users/erikrobertsson/Desktop/penalties_stats_aa.csv'\n",
    "penalties = pd.read_csv(file_path3)"
   ]
  },
  {
   "cell_type": "code",
   "execution_count": 3,
   "id": "f7a51e0a",
   "metadata": {},
   "outputs": [
    {
     "name": "stdout",
     "output_type": "stream",
     "text": [
      "              host_win_rate  non_host_win_rate\n",
      "home_team                                     \n",
      "Argentina          0.714286           0.660377\n",
      "Brazil             0.615385           0.704225\n",
      "Chile              0.666667           0.333333\n",
      "England            0.833333           0.433333\n",
      "France             0.888889           0.548387\n",
      "Germany            0.857143           0.592593\n",
      "Italy              0.833333           0.486486\n",
      "Mexico             0.555556           0.235294\n",
      "Russia             0.600000           0.666667\n",
      "South Africa       0.333333           0.250000\n",
      "Spain              0.200000           0.480000\n",
      "Sweden             0.666667           0.473684\n",
      "Switzerland        0.500000           0.250000\n",
      "Uruguay            1.000000           0.333333\n"
     ]
    }
   ],
   "source": [
    "import pandas as pd\n",
    "\n",
    "# Merge to mark matches with whether the home team was the host\n",
    "wcmatches = wcmatches.merge(worldcups[['year', 'host']], on='year', how='left')\n",
    "wcmatches['is_host'] = wcmatches['home_team'] == wcmatches['host']\n",
    "\n",
    "# Calculate win rates\n",
    "host_win_rate = wcmatches[wcmatches['is_host']].groupby('home_team')['outcome'].apply(lambda x: (x == 'H').mean())\n",
    "non_host_win_rate = wcmatches[~wcmatches['is_host']].groupby('home_team')['outcome'].apply(lambda x: (x == 'H').mean())\n",
    "\n",
    "# Filter to include only teams that have been hosts\n",
    "valid_teams = host_win_rate.dropna().index\n",
    "comparison = pd.DataFrame({\n",
    "    'host_win_rate': host_win_rate.loc[valid_teams],\n",
    "    'non_host_win_rate': non_host_win_rate.loc[valid_teams]\n",
    "})\n",
    "\n",
    "# Display the comparison\n",
    "print(comparison)\n"
   ]
  },
  {
   "cell_type": "code",
   "execution_count": 4,
   "id": "cb78db2e",
   "metadata": {},
   "outputs": [
    {
     "name": "stdout",
     "output_type": "stream",
     "text": [
      "T-statistic: 3.117927105531303, P-value: 0.00816024988465134\n"
     ]
    }
   ],
   "source": [
    "from scipy.stats import ttest_rel\n",
    "\n",
    "# Calculate the differences in win rates\n",
    "comparison['win_rate_difference'] = comparison['host_win_rate'] - comparison['non_host_win_rate']\n",
    "\n",
    "# Perform a paired t-test\n",
    "t_stat, p_value = ttest_rel(comparison['host_win_rate'], comparison['non_host_win_rate'])\n",
    "\n",
    "print(f'T-statistic: {t_stat}, P-value: {p_value}')\n"
   ]
  }
 ],
 "metadata": {
  "kernelspec": {
   "display_name": "Python 3 (ipykernel)",
   "language": "python",
   "name": "python3"
  },
  "language_info": {
   "codemirror_mode": {
    "name": "ipython",
    "version": 3
   },
   "file_extension": ".py",
   "mimetype": "text/x-python",
   "name": "python",
   "nbconvert_exporter": "python",
   "pygments_lexer": "ipython3",
   "version": "3.9.12"
  }
 },
 "nbformat": 4,
 "nbformat_minor": 5
}
